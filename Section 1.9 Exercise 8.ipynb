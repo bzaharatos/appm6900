{
 "cells": [
  {
   "cell_type": "markdown",
   "metadata": {},
   "source": [
    "# Section 1.9 Exercise 8"
   ]
  },
  {
   "cell_type": "code",
   "execution_count": 3,
   "metadata": {},
   "outputs": [
    {
     "data": {
      "text/html": [
       "<table>\n",
       "<thead><tr><th scope=col>loss</th><th scope=col>hard</th><th scope=col>tens</th></tr></thead>\n",
       "<tbody>\n",
       "\t<tr><td>372</td><td>45 </td><td>162</td></tr>\n",
       "\t<tr><td>206</td><td>55 </td><td>233</td></tr>\n",
       "\t<tr><td>175</td><td>61 </td><td>232</td></tr>\n",
       "\t<tr><td>154</td><td>66 </td><td>231</td></tr>\n",
       "\t<tr><td>136</td><td>71 </td><td>231</td></tr>\n",
       "\t<tr><td>112</td><td>71 </td><td>237</td></tr>\n",
       "</tbody>\n",
       "</table>\n"
      ],
      "text/latex": [
       "\\begin{tabular}{r|lll}\n",
       " loss & hard & tens\\\\\n",
       "\\hline\n",
       "\t 372 & 45  & 162\\\\\n",
       "\t 206 & 55  & 233\\\\\n",
       "\t 175 & 61  & 232\\\\\n",
       "\t 154 & 66  & 231\\\\\n",
       "\t 136 & 71  & 231\\\\\n",
       "\t 112 & 71  & 237\\\\\n",
       "\\end{tabular}\n"
      ],
      "text/markdown": [
       "\n",
       "loss | hard | tens | \n",
       "|---|---|---|---|---|---|\n",
       "| 372 | 45  | 162 | \n",
       "| 206 | 55  | 233 | \n",
       "| 175 | 61  | 232 | \n",
       "| 154 | 66  | 231 | \n",
       "| 136 | 71  | 231 | \n",
       "| 112 | 71  | 237 | \n",
       "\n",
       "\n"
      ],
      "text/plain": [
       "  loss hard tens\n",
       "1 372  45   162 \n",
       "2 206  55   233 \n",
       "3 175  61   232 \n",
       "4 154  66   231 \n",
       "5 136  71   231 \n",
       "6 112  71   237 "
      ]
     },
     "metadata": {},
     "output_type": "display_data"
    }
   ],
   "source": [
    "library(MASS)\n",
    "data(Rubber)\n",
    "head(Rubber)"
   ]
  },
  {
   "cell_type": "markdown",
   "metadata": {},
   "source": [
    "## Part A"
   ]
  },
  {
   "cell_type": "code",
   "execution_count": 4,
   "metadata": {},
   "outputs": [
    {
     "data": {
      "text/plain": [
       "\n",
       "Call:\n",
       "lm(formula = loss ~ hard + tens, data = Rubber)\n",
       "\n",
       "Residuals:\n",
       "    Min      1Q  Median      3Q     Max \n",
       "-79.385 -14.608   3.816  19.755  65.981 \n",
       "\n",
       "Coefficients:\n",
       "            Estimate Std. Error t value Pr(>|t|)    \n",
       "(Intercept) 885.1611    61.7516  14.334 3.84e-14 ***\n",
       "hard         -6.5708     0.5832 -11.267 1.03e-11 ***\n",
       "tens         -1.3743     0.1943  -7.073 1.32e-07 ***\n",
       "---\n",
       "Signif. codes:  0 '***' 0.001 '**' 0.01 '*' 0.05 '.' 0.1 ' ' 1\n",
       "\n",
       "Residual standard error: 36.49 on 27 degrees of freedom\n",
       "Multiple R-squared:  0.8402,\tAdjusted R-squared:  0.8284 \n",
       "F-statistic:    71 on 2 and 27 DF,  p-value: 1.767e-11\n"
      ]
     },
     "metadata": {},
     "output_type": "display_data"
    }
   ],
   "source": [
    "# part a, perform backwards model selection using hypothesis testing\n",
    "loss.mod <- lm(loss ~ hard + tens, Rubber)\n",
    "summary(loss.mod)"
   ]
  },
  {
   "cell_type": "markdown",
   "metadata": {},
   "source": [
    "**The full model is the final model, because the coefficients of all predictor variableshave a p-value of less than 0.05**"
   ]
  },
  {
   "cell_type": "markdown",
   "metadata": {},
   "source": [
    "## Part B"
   ]
  },
  {
   "cell_type": "code",
   "execution_count": 13,
   "metadata": {},
   "outputs": [
    {
     "name": "stdout",
     "output_type": "stream",
     "text": [
      "Start:  AIC=218.66\n",
      "loss ~ hard + tens\n",
      "\n",
      "       Df Sum of Sq    RSS    AIC\n",
      "<none>               35950 218.66\n",
      "- tens  1     66607 102556 248.11\n",
      "- hard  1    169027 204977 268.88\n"
     ]
    },
    {
     "data": {
      "text/plain": [
       "\n",
       "Call:\n",
       "lm(formula = loss ~ hard + tens, data = Rubber)\n",
       "\n",
       "Residuals:\n",
       "    Min      1Q  Median      3Q     Max \n",
       "-79.385 -14.608   3.816  19.755  65.981 \n",
       "\n",
       "Coefficients:\n",
       "            Estimate Std. Error t value Pr(>|t|)    \n",
       "(Intercept) 885.1611    61.7516  14.334 3.84e-14 ***\n",
       "hard         -6.5708     0.5832 -11.267 1.03e-11 ***\n",
       "tens         -1.3743     0.1943  -7.073 1.32e-07 ***\n",
       "---\n",
       "Signif. codes:  0 '***' 0.001 '**' 0.01 '*' 0.05 '.' 0.1 ' ' 1\n",
       "\n",
       "Residual standard error: 36.49 on 27 degrees of freedom\n",
       "Multiple R-squared:  0.8402,\tAdjusted R-squared:  0.8284 \n",
       "F-statistic:    71 on 2 and 27 DF,  p-value: 1.767e-11\n"
      ]
     },
     "metadata": {},
     "output_type": "display_data"
    },
    {
     "name": "stdout",
     "output_type": "stream",
     "text": [
      "Start:  AIC=248.11\n",
      "loss ~ hard\n",
      "\n",
      "       Df Sum of Sq    RSS    AIC\n",
      "<none>              102556 248.11\n",
      "- hard  1    122455 225011 269.68\n"
     ]
    },
    {
     "data": {
      "text/plain": [
       "\n",
       "Call:\n",
       "lm(formula = loss ~ hard, data = Rubber)\n",
       "\n",
       "Residuals:\n",
       "   Min     1Q Median     3Q    Max \n",
       "-86.15 -46.77 -19.49  54.27 111.49 \n",
       "\n",
       "Coefficients:\n",
       "            Estimate Std. Error t value Pr(>|t|)    \n",
       "(Intercept) 550.4151    65.7867   8.367 4.22e-09 ***\n",
       "hard         -5.3366     0.9229  -5.782 3.29e-06 ***\n",
       "---\n",
       "Signif. codes:  0 '***' 0.001 '**' 0.01 '*' 0.05 '.' 0.1 ' ' 1\n",
       "\n",
       "Residual standard error: 60.52 on 28 degrees of freedom\n",
       "Multiple R-squared:  0.5442,\tAdjusted R-squared:  0.5279 \n",
       "F-statistic: 33.43 on 1 and 28 DF,  p-value: 3.294e-06\n"
      ]
     },
     "metadata": {},
     "output_type": "display_data"
    },
    {
     "name": "stdout",
     "output_type": "stream",
     "text": [
      "Start:  AIC=268.88\n",
      "loss ~ tens\n",
      "\n",
      "       Df Sum of Sq    RSS    AIC\n",
      "<none>              204977 268.88\n",
      "- tens  1     20035 225011 269.68\n"
     ]
    },
    {
     "data": {
      "text/plain": [
       "\n",
       "Call:\n",
       "lm(formula = loss ~ tens, data = Rubber)\n",
       "\n",
       "Residuals:\n",
       "     Min       1Q   Median       3Q      Max \n",
       "-155.640  -59.919    2.795   61.221  183.285 \n",
       "\n",
       "Coefficients:\n",
       "            Estimate Std. Error t value Pr(>|t|)    \n",
       "(Intercept) 305.2248    79.9962   3.815 0.000688 ***\n",
       "tens         -0.7192     0.4347  -1.654 0.109232    \n",
       "---\n",
       "Signif. codes:  0 '***' 0.001 '**' 0.01 '*' 0.05 '.' 0.1 ' ' 1\n",
       "\n",
       "Residual standard error: 85.56 on 28 degrees of freedom\n",
       "Multiple R-squared:  0.08904,\tAdjusted R-squared:  0.0565 \n",
       "F-statistic: 2.737 on 1 and 28 DF,  p-value: 0.1092\n"
      ]
     },
     "metadata": {},
     "output_type": "display_data"
    }
   ],
   "source": [
    "# part b, model selection based on AIC\n",
    "summary(step(loss.mod))\n",
    "summary(step(lm(loss ~ hard, Rubber)))\n",
    "summary(step(lm(loss ~ tens, Rubber)))"
   ]
  },
  {
   "cell_type": "markdown",
   "metadata": {},
   "source": [
    "**After performing model selection based on AIC, the most appropriate model is still the full model, given the fact that it has the lowest AIC value.**"
   ]
  },
  {
   "cell_type": "markdown",
   "metadata": {},
   "source": [
    "## Part C"
   ]
  },
  {
   "cell_type": "code",
   "execution_count": 75,
   "metadata": {},
   "outputs": [
    {
     "data": {
      "text/html": [
       "<table>\n",
       "<thead><tr><th scope=col>loss_pred</th><th scope=col>tens</th></tr></thead>\n",
       "<tbody>\n",
       "\t<tr><td>366.83526</td><td>162      </td></tr>\n",
       "\t<tr><td>203.55082</td><td>233      </td></tr>\n",
       "\t<tr><td>165.50016</td><td>232      </td></tr>\n",
       "\t<tr><td>134.02032</td><td>231      </td></tr>\n",
       "\t<tr><td>101.16617</td><td>231      </td></tr>\n",
       "\t<tr><td> 92.92030</td><td>237      </td></tr>\n",
       "\t<tr><td> 45.07805</td><td>224      </td></tr>\n",
       "\t<tr><td> 19.09546</td><td>219      </td></tr>\n",
       "\t<tr><td>257.92184</td><td>203      </td></tr>\n",
       "\t<tr><td>231.16639</td><td>189      </td></tr>\n",
       "\t<tr><td>176.02253</td><td>210      </td></tr>\n",
       "\t<tr><td>149.73921</td><td>210      </td></tr>\n",
       "\t<tr><td> 96.70044</td><td>196      </td></tr>\n",
       "\t<tr><td>105.54777</td><td>180      </td></tr>\n",
       "\t<tr><td>242.33228</td><td>200      </td></tr>\n",
       "\t<tr><td>200.58874</td><td>173      </td></tr>\n",
       "\t<tr><td>133.97826</td><td>188      </td></tr>\n",
       "\t<tr><td>118.51804</td><td>161      </td></tr>\n",
       "\t<tr><td>143.38498</td><td>119      </td></tr>\n",
       "\t<tr><td>276.21795</td><td>161      </td></tr>\n",
       "\t<tr><td>211.11111</td><td>151      </td></tr>\n",
       "\t<tr><td>132.73328</td><td>165      </td></tr>\n",
       "\t<tr><td>138.83198</td><td>151      </td></tr>\n",
       "\t<tr><td>124.44535</td><td>128      </td></tr>\n",
       "\t<tr><td>328.78459</td><td>161      </td></tr>\n",
       "\t<tr><td>296.83263</td><td>146      </td></tr>\n",
       "\t<tr><td>254.65903</td><td>148      </td></tr>\n",
       "\t<tr><td>201.01880</td><td>144      </td></tr>\n",
       "\t<tr><td>168.76611</td><td>134      </td></tr>\n",
       "\t<tr><td>145.53215</td><td>127      </td></tr>\n",
       "</tbody>\n",
       "</table>\n"
      ],
      "text/latex": [
       "\\begin{tabular}{r|ll}\n",
       " loss\\_pred & tens\\\\\n",
       "\\hline\n",
       "\t 366.83526 & 162      \\\\\n",
       "\t 203.55082 & 233      \\\\\n",
       "\t 165.50016 & 232      \\\\\n",
       "\t 134.02032 & 231      \\\\\n",
       "\t 101.16617 & 231      \\\\\n",
       "\t  92.92030 & 237      \\\\\n",
       "\t  45.07805 & 224      \\\\\n",
       "\t  19.09546 & 219      \\\\\n",
       "\t 257.92184 & 203      \\\\\n",
       "\t 231.16639 & 189      \\\\\n",
       "\t 176.02253 & 210      \\\\\n",
       "\t 149.73921 & 210      \\\\\n",
       "\t  96.70044 & 196      \\\\\n",
       "\t 105.54777 & 180      \\\\\n",
       "\t 242.33228 & 200      \\\\\n",
       "\t 200.58874 & 173      \\\\\n",
       "\t 133.97826 & 188      \\\\\n",
       "\t 118.51804 & 161      \\\\\n",
       "\t 143.38498 & 119      \\\\\n",
       "\t 276.21795 & 161      \\\\\n",
       "\t 211.11111 & 151      \\\\\n",
       "\t 132.73328 & 165      \\\\\n",
       "\t 138.83198 & 151      \\\\\n",
       "\t 124.44535 & 128      \\\\\n",
       "\t 328.78459 & 161      \\\\\n",
       "\t 296.83263 & 146      \\\\\n",
       "\t 254.65903 & 148      \\\\\n",
       "\t 201.01880 & 144      \\\\\n",
       "\t 168.76611 & 134      \\\\\n",
       "\t 145.53215 & 127      \\\\\n",
       "\\end{tabular}\n"
      ],
      "text/markdown": [
       "\n",
       "loss_pred | tens | \n",
       "|---|---|---|---|---|---|---|---|---|---|---|---|---|---|---|---|---|---|---|---|---|---|---|---|---|---|---|---|---|---|\n",
       "| 366.83526 | 162       | \n",
       "| 203.55082 | 233       | \n",
       "| 165.50016 | 232       | \n",
       "| 134.02032 | 231       | \n",
       "| 101.16617 | 231       | \n",
       "|  92.92030 | 237       | \n",
       "|  45.07805 | 224       | \n",
       "|  19.09546 | 219       | \n",
       "| 257.92184 | 203       | \n",
       "| 231.16639 | 189       | \n",
       "| 176.02253 | 210       | \n",
       "| 149.73921 | 210       | \n",
       "|  96.70044 | 196       | \n",
       "| 105.54777 | 180       | \n",
       "| 242.33228 | 200       | \n",
       "| 200.58874 | 173       | \n",
       "| 133.97826 | 188       | \n",
       "| 118.51804 | 161       | \n",
       "| 143.38498 | 119       | \n",
       "| 276.21795 | 161       | \n",
       "| 211.11111 | 151       | \n",
       "| 132.73328 | 165       | \n",
       "| 138.83198 | 151       | \n",
       "| 124.44535 | 128       | \n",
       "| 328.78459 | 161       | \n",
       "| 296.83263 | 146       | \n",
       "| 254.65903 | 148       | \n",
       "| 201.01880 | 144       | \n",
       "| 168.76611 | 134       | \n",
       "| 145.53215 | 127       | \n",
       "\n",
       "\n"
      ],
      "text/plain": [
       "   loss_pred tens\n",
       "1  366.83526 162 \n",
       "2  203.55082 233 \n",
       "3  165.50016 232 \n",
       "4  134.02032 231 \n",
       "5  101.16617 231 \n",
       "6   92.92030 237 \n",
       "7   45.07805 224 \n",
       "8   19.09546 219 \n",
       "9  257.92184 203 \n",
       "10 231.16639 189 \n",
       "11 176.02253 210 \n",
       "12 149.73921 210 \n",
       "13  96.70044 196 \n",
       "14 105.54777 180 \n",
       "15 242.33228 200 \n",
       "16 200.58874 173 \n",
       "17 133.97826 188 \n",
       "18 118.51804 161 \n",
       "19 143.38498 119 \n",
       "20 276.21795 161 \n",
       "21 211.11111 151 \n",
       "22 132.73328 165 \n",
       "23 138.83198 151 \n",
       "24 124.44535 128 \n",
       "25 328.78459 161 \n",
       "26 296.83263 146 \n",
       "27 254.65903 148 \n",
       "28 201.01880 144 \n",
       "29 168.76611 134 \n",
       "30 145.53215 127 "
      ]
     },
     "metadata": {},
     "output_type": "display_data"
    },
    {
     "data": {
      "image/png": "[encoded data removed]",
      "text/plain": [
       "Plot with title \"Model predicted loss against tensile strength\""
      ]
     },
     "metadata": {},
     "output_type": "display_data"
    }
   ],
   "source": [
    "# part c, produce a contour plot of model predicted loss, against tens and hard\n",
    "loss_pred <- predict(loss.mod)\n",
    "loss_pred_df <- data.frame(loss_pred)\n",
    "tens_df <- Rubber['tens']\n",
    "df = data.frame(loss_pred_df, tens_df)\n",
    "z <- data.matrix(df)\n",
    "contour(x = seq(min(df['tens']), max(df['tens']), length.out = nrow(z)),\n",
    "       y = seq(min(df['loss_pred']), max(df['loss_pred']), length.out = ncol(z)),\n",
    "       z,\n",
    "       main=\"Model predicted loss against tensile strength\",\n",
    "       xlab=\"Tensile Strength (kgm^-2)\",\n",
    "       ylab=\"Predicted loss (grammes/hr)\")\n",
    "df\n"
   ]
  },
  {
   "cell_type": "code",
   "execution_count": 74,
   "metadata": {},
   "outputs": [
    {
     "data": {
      "text/html": [
       "<table>\n",
       "<thead><tr><th scope=col>loss_pred</th><th scope=col>hard</th></tr></thead>\n",
       "<tbody>\n",
       "\t<tr><td>366.83526</td><td>45       </td></tr>\n",
       "\t<tr><td>203.55082</td><td>55       </td></tr>\n",
       "\t<tr><td>165.50016</td><td>61       </td></tr>\n",
       "\t<tr><td>134.02032</td><td>66       </td></tr>\n",
       "\t<tr><td>101.16617</td><td>71       </td></tr>\n",
       "\t<tr><td> 92.92030</td><td>71       </td></tr>\n",
       "\t<tr><td> 45.07805</td><td>81       </td></tr>\n",
       "\t<tr><td> 19.09546</td><td>86       </td></tr>\n",
       "\t<tr><td>257.92184</td><td>53       </td></tr>\n",
       "\t<tr><td>231.16639</td><td>60       </td></tr>\n",
       "\t<tr><td>176.02253</td><td>64       </td></tr>\n",
       "\t<tr><td>149.73921</td><td>68       </td></tr>\n",
       "\t<tr><td> 96.70044</td><td>79       </td></tr>\n",
       "\t<tr><td>105.54777</td><td>81       </td></tr>\n",
       "\t<tr><td>242.33228</td><td>56       </td></tr>\n",
       "\t<tr><td>200.58874</td><td>68       </td></tr>\n",
       "\t<tr><td>133.97826</td><td>75       </td></tr>\n",
       "\t<tr><td>118.51804</td><td>83       </td></tr>\n",
       "\t<tr><td>143.38498</td><td>88       </td></tr>\n",
       "\t<tr><td>276.21795</td><td>59       </td></tr>\n",
       "\t<tr><td>211.11111</td><td>71       </td></tr>\n",
       "\t<tr><td>132.73328</td><td>80       </td></tr>\n",
       "\t<tr><td>138.83198</td><td>82       </td></tr>\n",
       "\t<tr><td>124.44535</td><td>89       </td></tr>\n",
       "\t<tr><td>328.78459</td><td>51       </td></tr>\n",
       "\t<tr><td>296.83263</td><td>59       </td></tr>\n",
       "\t<tr><td>254.65903</td><td>65       </td></tr>\n",
       "\t<tr><td>201.01880</td><td>74       </td></tr>\n",
       "\t<tr><td>168.76611</td><td>81       </td></tr>\n",
       "\t<tr><td>145.53215</td><td>86       </td></tr>\n",
       "</tbody>\n",
       "</table>\n"
      ],
      "text/latex": [
       "\\begin{tabular}{r|ll}\n",
       " loss\\_pred & hard\\\\\n",
       "\\hline\n",
       "\t 366.83526 & 45       \\\\\n",
       "\t 203.55082 & 55       \\\\\n",
       "\t 165.50016 & 61       \\\\\n",
       "\t 134.02032 & 66       \\\\\n",
       "\t 101.16617 & 71       \\\\\n",
       "\t  92.92030 & 71       \\\\\n",
       "\t  45.07805 & 81       \\\\\n",
       "\t  19.09546 & 86       \\\\\n",
       "\t 257.92184 & 53       \\\\\n",
       "\t 231.16639 & 60       \\\\\n",
       "\t 176.02253 & 64       \\\\\n",
       "\t 149.73921 & 68       \\\\\n",
       "\t  96.70044 & 79       \\\\\n",
       "\t 105.54777 & 81       \\\\\n",
       "\t 242.33228 & 56       \\\\\n",
       "\t 200.58874 & 68       \\\\\n",
       "\t 133.97826 & 75       \\\\\n",
       "\t 118.51804 & 83       \\\\\n",
       "\t 143.38498 & 88       \\\\\n",
       "\t 276.21795 & 59       \\\\\n",
       "\t 211.11111 & 71       \\\\\n",
       "\t 132.73328 & 80       \\\\\n",
       "\t 138.83198 & 82       \\\\\n",
       "\t 124.44535 & 89       \\\\\n",
       "\t 328.78459 & 51       \\\\\n",
       "\t 296.83263 & 59       \\\\\n",
       "\t 254.65903 & 65       \\\\\n",
       "\t 201.01880 & 74       \\\\\n",
       "\t 168.76611 & 81       \\\\\n",
       "\t 145.53215 & 86       \\\\\n",
       "\\end{tabular}\n"
      ],
      "text/markdown": [
       "\n",
       "loss_pred | hard | \n",
       "|---|---|---|---|---|---|---|---|---|---|---|---|---|---|---|---|---|---|---|---|---|---|---|---|---|---|---|---|---|---|\n",
       "| 366.83526 | 45        | \n",
       "| 203.55082 | 55        | \n",
       "| 165.50016 | 61        | \n",
       "| 134.02032 | 66        | \n",
       "| 101.16617 | 71        | \n",
       "|  92.92030 | 71        | \n",
       "|  45.07805 | 81        | \n",
       "|  19.09546 | 86        | \n",
       "| 257.92184 | 53        | \n",
       "| 231.16639 | 60        | \n",
       "| 176.02253 | 64        | \n",
       "| 149.73921 | 68        | \n",
       "|  96.70044 | 79        | \n",
       "| 105.54777 | 81        | \n",
       "| 242.33228 | 56        | \n",
       "| 200.58874 | 68        | \n",
       "| 133.97826 | 75        | \n",
       "| 118.51804 | 83        | \n",
       "| 143.38498 | 88        | \n",
       "| 276.21795 | 59        | \n",
       "| 211.11111 | 71        | \n",
       "| 132.73328 | 80        | \n",
       "| 138.83198 | 82        | \n",
       "| 124.44535 | 89        | \n",
       "| 328.78459 | 51        | \n",
       "| 296.83263 | 59        | \n",
       "| 254.65903 | 65        | \n",
       "| 201.01880 | 74        | \n",
       "| 168.76611 | 81        | \n",
       "| 145.53215 | 86        | \n",
       "\n",
       "\n"
      ],
      "text/plain": [
       "   loss_pred hard\n",
       "1  366.83526 45  \n",
       "2  203.55082 55  \n",
       "3  165.50016 61  \n",
       "4  134.02032 66  \n",
       "5  101.16617 71  \n",
       "6   92.92030 71  \n",
       "7   45.07805 81  \n",
       "8   19.09546 86  \n",
       "9  257.92184 53  \n",
       "10 231.16639 60  \n",
       "11 176.02253 64  \n",
       "12 149.73921 68  \n",
       "13  96.70044 79  \n",
       "14 105.54777 81  \n",
       "15 242.33228 56  \n",
       "16 200.58874 68  \n",
       "17 133.97826 75  \n",
       "18 118.51804 83  \n",
       "19 143.38498 88  \n",
       "20 276.21795 59  \n",
       "21 211.11111 71  \n",
       "22 132.73328 80  \n",
       "23 138.83198 82  \n",
       "24 124.44535 89  \n",
       "25 328.78459 51  \n",
       "26 296.83263 59  \n",
       "27 254.65903 65  \n",
       "28 201.01880 74  \n",
       "29 168.76611 81  \n",
       "30 145.53215 86  "
      ]
     },
     "metadata": {},
     "output_type": "display_data"
    },
    {
     "data": {
      "image/png": "[encoded data removed]",
      "text/plain": [
       "Plot with title \"Model predicted loss against hardness\""
      ]
     },
     "metadata": {},
     "output_type": "display_data"
    }
   ],
   "source": [
    "hard_df <- Rubber['hard']\n",
    "df = data.frame(loss_pred_df, hard_df)\n",
    "df = data.frame(loss_pred_df, hard_df)\n",
    "z <- data.matrix(df)\n",
    "contour(x = seq(min(df['hard']), max(df['hard']), length.out = nrow(z)),\n",
    "       y = seq(min(df['loss_pred']), max(df['loss_pred']), length.out = ncol(z)),\n",
    "       z,\n",
    "       main=\"Model predicted loss against hardness\",\n",
    "       xlab=\"Hardness (Shore units)\",\n",
    "       ylab=\"Predicted loss (grammes/hr)\")\n",
    "df"
   ]
  },
  {
   "cell_type": "code",
   "execution_count": null,
   "metadata": {},
   "outputs": [],
   "source": []
  }
 ],
 "metadata": {
  "kernelspec": {
   "display_name": "R",
   "language": "R",
   "name": "ir"
  },
  "language_info": {
   "codemirror_mode": "r",
   "file_extension": ".r",
   "mimetype": "text/x-r-source",
   "name": "R",
   "pygments_lexer": "r",
   "version": "3.4.3"
  }
 },
 "nbformat": 4,
 "nbformat_minor": 2
}
